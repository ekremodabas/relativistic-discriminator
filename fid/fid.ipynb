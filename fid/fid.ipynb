{
 "cells": [
  {
   "cell_type": "code",
   "execution_count": 4,
   "metadata": {},
   "outputs": [],
   "source": [
    "import numpy as np\n",
    "\n",
    "from statistics import stdev as std\n"
   ]
  },
  {
   "cell_type": "code",
   "execution_count": 22,
   "metadata": {},
   "outputs": [],
   "source": [
    "fido = open(\"fids22.txt\", \"r\")"
   ]
  },
  {
   "cell_type": "code",
   "execution_count": 23,
   "metadata": {},
   "outputs": [],
   "source": [
    "cifar_dict = {}\n",
    "cat_dict = {}\n",
    "unstable_dict = {}\n",
    "while(True):\n",
    "    line = fido.readline()\n",
    "    \n",
    "    if line == \"\":\n",
    "        break\n",
    "        \n",
    "        \n",
    "    line_space = line.split(\" \")\n",
    "\n",
    "    name = line_space[0]\n",
    "\n",
    "    fid = float(line_space[2])\n",
    "\n",
    "    name_sub = name.split(\"_\")\n",
    "    \n",
    "    dataset = name_sub[0]\n",
    "    \n",
    "    loss = name_sub[1].upper().replace(\"RA\", \"Ra\").replace(\"HINGE\", \"Hinge\")      \n",
    "    \n",
    "    if(line.startswith(\"cifar10\") and name.endswith(\"b_size_64_lr_0.0002_100000.npz\")):\n",
    "        if loss not in cifar_dict:\n",
    "            cifar_dict[loss] = [fid, None]\n",
    "        else:\n",
    "            cifar_dict[loss][0] = fid\n",
    "        continue\n",
    "        \n",
    "    if(line.startswith(\"cifar10\") and name.endswith(\"b_size_64_lr_0.0001_100000.npz\")):\n",
    "        if loss not in cifar_dict:\n",
    "            cifar_dict[loss] = [None, fid]\n",
    "        else:\n",
    "            cifar_dict[loss][1] = fid\n",
    "        continue  \n",
    "        \n",
    "    if(line.startswith(\"cifar10\") and name.endswith(\"b_size_32_lr_0.001_100000.npz\")):\n",
    "        if loss not in unstable_dict:\n",
    "            unstable_dict[loss] = {'lr' : fid}\n",
    "        else:\n",
    "            unstable_dict[loss]['lr'] = fid\n",
    "        continue \n",
    "        \n",
    "    if(line.startswith(\"cifar10\") and name.endswith(\"b_size_32_lr_0.0002_noBN_100000.npz\")):\n",
    "        if loss not in unstable_dict:\n",
    "            unstable_dict[loss] = {'bn' : fid}\n",
    "        else:\n",
    "            unstable_dict[loss]['bn'] = fid\n",
    "        continue\n",
    "    \n",
    "    if(line.startswith(\"cifar10\") and name.endswith(\"b_size_32_lr_0.0002_alltanh_100000.npz\")):\n",
    "        if loss not in unstable_dict:\n",
    "            unstable_dict[loss] = {'tanh' : fid}\n",
    "        else:\n",
    "            unstable_dict[loss]['tanh'] = fid\n",
    "        continue\n",
    "        \n",
    "    if(line.startswith(\"cifar10\") and name.endswith(\"0.9_b_size_32_lr_0.0002_100000.npz\")):\n",
    "        if loss not in unstable_dict:\n",
    "            unstable_dict[loss] = {'beta' : fid}\n",
    "        else:\n",
    "            unstable_dict[loss]['beta'] = fid\n",
    "        continue \n",
    "        \n",
    "    if(line.startswith('cat')):\n",
    "        if loss not in cat_dict:\n",
    "            cat_dict[loss] = np.empty(9)\n",
    "            \n",
    "        itero = int(name_sub[10][:-4]) # change this\n",
    "        \n",
    "        if(itero == 10000):\n",
    "            continue\n",
    "        \n",
    "        cat_dict[loss][itero//10000-2] = fid\n",
    "        \n",
    "        continue\n",
    "    \n"
   ]
  },
  {
   "cell_type": "code",
   "execution_count": null,
   "metadata": {},
   "outputs": [],
   "source": [
    "cifar_dict = {}\n",
    "cat_dict = {}\n",
    "unstable_dict = {}"
   ]
  },
  {
   "cell_type": "code",
   "execution_count": 13,
   "metadata": {},
   "outputs": [
    {
     "data": {
      "text/plain": [
       "{'SGAN': [25.499088812235073, 35.238779889196394],\n",
       " 'RaHingeGAN': [26.847904609547527, 35.555127932557866],\n",
       " 'LSGAN': [28.835121608602094, 47.53340642907693],\n",
       " 'RSGAN-GP': [28.69944679107249, 24.427194852834248],\n",
       " 'RaSGAN-GP': [22.79755068827086, None],\n",
       " 'RaLSGAN': [29.42445270874191, 46.99372361540418],\n",
       " 'RSGAN': [27.201779088409012, 41.90231051807439],\n",
       " 'RaSGAN': [26.539710840601913, 35.92733648645202],\n",
       " 'HingeGAN': [23.784155492655202, 32.677003843172656],\n",
       " 'WGAN-GP': [100.59482981982012, 36.33449880987024]}"
      ]
     },
     "execution_count": 13,
     "metadata": {},
     "output_type": "execute_result"
    }
   ],
   "source": [
    "cifar_dict"
   ]
  },
  {
   "cell_type": "code",
   "execution_count": 14,
   "metadata": {
    "collapsed": true
   },
   "outputs": [
    {
     "data": {
      "text/plain": [
       "{'SGAN': [21.29134390739364,\n",
       "  12.689423217988235,\n",
       "  57.59213688719103,\n",
       "  91.53163612600406,\n",
       "  68.01397030208362,\n",
       "  54.594470472783456,\n",
       "  51.46320811945681,\n",
       "  75.7351455081338,\n",
       "  69.58368313814779],\n",
       " 'RSGAN': [39.081463798691516,\n",
       "  26.012970727460413,\n",
       "  27.13692211585274,\n",
       "  29.61582020103492,\n",
       "  24.49657879218853,\n",
       "  29.243123744367267,\n",
       "  26.888062571081235,\n",
       "  28.556513325304024,\n",
       "  21.60806620083551],\n",
       " 'RaSGAN': [20.76798891837504,\n",
       "  23.326362049784592,\n",
       "  25.332778947907258,\n",
       "  19.790599249623682,\n",
       "  23.982975128329713,\n",
       "  24.35626840710833,\n",
       "  19.394116026800702,\n",
       "  20.413891987932033,\n",
       "  18.163153655768923],\n",
       " 'HingeGAN': [21.930480695136282,\n",
       "  13.615584772381624,\n",
       "  15.143802746145468,\n",
       "  18.97429679888745,\n",
       "  15.65445590573151,\n",
       "  17.330501472240513,\n",
       "  18.38022295515441,\n",
       "  17.49604820411193,\n",
       "  17.373635820607262],\n",
       " 'RaHingeGAN': [26.534068882436145,\n",
       "  41.538533250944255,\n",
       "  27.117506255513092,\n",
       "  29.45787541240628,\n",
       "  27.801584475391735,\n",
       "  25.72986031965067,\n",
       "  23.296818595985712,\n",
       "  19.398416152497703,\n",
       "  15.946412241314505],\n",
       " 'LSGAN': [14.999720795369768,\n",
       "  16.51242034891561,\n",
       "  19.037396330257423,\n",
       "  37.91742878725867,\n",
       "  14.188147890770267,\n",
       "  74.76470029435865,\n",
       "  40.24524100756531,\n",
       "  18.41835417639507,\n",
       "  11.578895742482302],\n",
       " 'RaLSGAN': [20.703101399225375,\n",
       "  13.19027169981257,\n",
       "  13.197174692607348,\n",
       "  16.66246941332642,\n",
       "  13.896135490558407,\n",
       "  12.285969185683712,\n",
       "  13.61452503308675,\n",
       "  13.78463623464836,\n",
       "  13.65246159668257],\n",
       " 'RSGAN-GP': [24.974545275198864,\n",
       "  20.497940177835687,\n",
       "  23.399354955499348,\n",
       "  25.339082067744215,\n",
       "  24.566069867639897,\n",
       "  24.958132551243523,\n",
       "  25.850867117121595,\n",
       "  24.91432150379984,\n",
       "  24.126385716998016],\n",
       " 'RaSGAN-GP': [26.276832595161267,\n",
       "  29.810143019830207,\n",
       "  37.186825314458616,\n",
       "  29.465946082145337,\n",
       "  35.65897323185635,\n",
       "  30.40972940258007,\n",
       "  30.125900635168193,\n",
       "  27.66583752483126,\n",
       "  29.07805493682747]}"
      ]
     },
     "execution_count": 14,
     "metadata": {},
     "output_type": "execute_result"
    }
   ],
   "source": [
    "cat_dict"
   ]
  },
  {
   "cell_type": "code",
   "execution_count": 51,
   "metadata": {},
   "outputs": [],
   "source": [
    "a = {\"al\":3}"
   ]
  },
  {
   "cell_type": "code",
   "execution_count": 53,
   "metadata": {
    "scrolled": true
   },
   "outputs": [
    {
     "data": {
      "text/plain": [
       "3"
      ]
     },
     "execution_count": 53,
     "metadata": {},
     "output_type": "execute_result"
    }
   ],
   "source": [
    "a['al']"
   ]
  },
  {
   "cell_type": "code",
   "execution_count": 6,
   "metadata": {
    "collapsed": true
   },
   "outputs": [
    {
     "name": "stdout",
     "output_type": "stream",
     "text": [
      "sgan [21.29134391 12.68942322 57.59213689 91.53163613 68.0139703  54.59447047\n",
      " 51.46320812 75.73514551 69.58368314]\n",
      "min 12.689423217988235 max 91.53163612600406 mean 55.83277974213138 std 23.772447083722078\n",
      "rsgan [39.0814638  26.01297073 27.13692212 29.6158202  24.49657879 29.24312374\n",
      " 26.88806257 28.55651333 21.6080662 ]\n",
      "min 21.60806620083551 max 39.081463798691516 mean 28.07105794186846 std 4.549477466344886\n",
      "rasgan [20.76798892 23.32636205 25.33277895 19.79059925 23.98297513 24.35626841\n",
      " 19.39411603 20.41389199 18.16315366]\n",
      "min 18.163153655768923 max 25.332778947907258 mean 21.725348263514476 std 2.4059879823154127\n",
      "hingegan [21.9304807  13.61558477 15.14380275 18.9742968  15.65445591 17.33050147\n",
      " 18.38022296 17.4960482  17.37363582]\n",
      "min 13.615584772381624 max 21.930480695136282 mean 17.322114374488493 std 2.2701885987988035\n",
      "rahingegan [26.53406888 41.53853325 27.11750626 29.45787541 27.80158448 25.72986032\n",
      " 23.2968186  19.39841615 15.94641224]\n",
      "min 15.946412241314505 max 41.538533250944255 mean 26.313452842904454 std 6.744002285877365\n",
      "lsgan [14.9997208  16.51242035 19.03739633 37.91742879 14.18814789 74.76470029\n",
      " 40.24524101 18.41835418 11.57889574]\n",
      "min 11.578895742482302 max 74.76470029435865 mean 27.518033930374784 std 19.341020781018777\n",
      "ralsgan [20.7031014  13.1902717  13.19717469 16.66246941 13.89613549 12.28596919\n",
      " 13.61452503 13.78463623 13.6524616 ]\n",
      "min 12.285969185683712 max 20.703101399225375 mean 14.554082749514613 std 2.4454464671165272\n",
      "rsgan-gp [24.97454528 20.49794018 23.39935496 25.33908207 24.56606987 24.95813255\n",
      " 25.85086712 24.9143215  24.12638572]\n",
      "min 20.497940177835687 max 25.850867117121595 mean 24.29185547034233 std 1.495087494012187\n",
      "rasgan-gp [26.2768326  29.81014302 37.18682531 29.46594608 35.65897323 30.4097294\n",
      " 30.12590064 27.66583752 29.07805494]\n",
      "min 26.276832595161267 max 37.186825314458616 mean 30.63091586031764 std 3.345929597320433\n"
     ]
    }
   ],
   "source": [
    "for key in cat_dict.keys():\n",
    "    print(f\"{key} {cat_dict[key]}\")\n",
    "    print(f\"min {min(cat_dict[key])} max {max(cat_dict[key])} mean {(cat_dict[key]).mean()} std {np.std(cat_dict[key])}\")"
   ]
  },
  {
   "cell_type": "code",
   "execution_count": 19,
   "metadata": {},
   "outputs": [
    {
     "name": "stdout",
     "output_type": "stream",
     "text": [
      "Loss\t\t\t  Min\t\t  Max\t\t  Mean\t\t  SD\n"
     ]
    }
   ],
   "source": []
  },
  {
   "cell_type": "code",
   "execution_count": 4,
   "metadata": {
    "collapsed": true
   },
   "outputs": [
    {
     "name": "stdout",
     "output_type": "stream",
     "text": [
      "Loss\t\t  Min\t  |\t Max\t  |\t Mean\t  |\t SD\t |\n",
      "-------------------------------------------------------------------------|\n",
      "sgan\t\t12.689\t  |\t91.532\t  |\t55.833\t  |\t23.772\t |\n",
      "rsgan\t\t21.608\t  |\t39.081\t  |\t28.071\t  |\t4.549\t |\n",
      "rasgan\t\t18.163\t  |\t25.333\t  |\t21.725\t  |\t2.406\t |\n",
      "hingegan\t13.616\t  |\t21.930\t  |\t17.322\t  |\t2.270\t |\n",
      "rahingegan\t15.946\t  |\t41.539\t  |\t26.313\t  |\t6.744\t |\n",
      "lsgan\t\t11.579\t  |\t74.765\t  |\t27.518\t  |\t19.341\t |\n",
      "ralsgan\t\t12.286\t  |\t20.703\t  |\t14.554\t  |\t2.445\t |\n",
      "rsgan-gp\t20.498\t  |\t25.851\t  |\t24.292\t  |\t1.495\t |\n",
      "rasgan-gp\t26.277\t  |\t37.187\t  |\t30.631\t  |\t3.346\t |\n"
     ]
    }
   ],
   "source": [
    "\n",
    "print(f\"Loss\\t\\t  Min\\t  |\\t Max\\t  |\\t Mean\\t  |\\t SD\\t |\")\n",
    "print(\"-------------------------------------------------------------------------|\")\n",
    "for key in cat_dict.keys():\n",
    "    \n",
    "    print(f\"{key}\"+\"\\t\"*(3-(len(key))//4) +f\"{min(cat_dict[key]):.3f}\\t  |\\t{max(cat_dict[key]):.3f}\\t  |\\t{(cat_dict[key]).mean():.3f}\\t  |\\t{np.std(cat_dict[key]):.3f}\\t |\")"
   ]
  },
  {
   "cell_type": "code",
   "execution_count": 5,
   "metadata": {
    "collapsed": true
   },
   "outputs": [
    {
     "name": "stdout",
     "output_type": "stream",
     "text": [
      "Loss\t\t  Min\t\t Max\t\t Mean\t\t SD\t \n",
      "-------------------------------------------------------------------------\n",
      "sgan\t\t12.689\t\t91.532\t\t55.833\t\t23.772\t\n",
      "rsgan\t\t21.608\t\t39.081\t\t28.071\t\t4.549\t\n",
      "rasgan\t\t18.163\t\t25.333\t\t21.725\t\t2.406\t\n",
      "hingegan\t13.616\t\t21.930\t\t17.322\t\t2.270\t\n",
      "rahingegan\t15.946\t\t41.539\t\t26.313\t\t6.744\t\n",
      "lsgan\t\t11.579\t\t74.765\t\t27.518\t\t19.341\t\n",
      "ralsgan\t\t12.286\t\t20.703\t\t14.554\t\t2.445\t\n",
      "rsgan-gp\t20.498\t\t25.851\t\t24.292\t\t1.495\t\n",
      "rasgan-gp\t26.277\t\t37.187\t\t30.631\t\t3.346\t\n"
     ]
    }
   ],
   "source": [
    "\n",
    "print(f\"Loss\\t\\t  Min\\t\\t Max\\t\\t Mean\\t\\t SD\\t \")\n",
    "print(\"-------------------------------------------------------------------------\")\n",
    "for key in cat_dict.keys():\n",
    "    \n",
    "    print(f\"{key}\"+\"\\t\"*(3-(len(key))//4) +f\"{min(cat_dict[key]):.3f}\\t\\t{max(cat_dict[key]):.3f}\\t\\t{(cat_dict[key]).mean():.3f}\\t\\t{np.std(cat_dict[key]):.3f}\\t\")"
   ]
  },
  {
   "cell_type": "code",
   "execution_count": 31,
   "metadata": {},
   "outputs": [],
   "source": [
    "def create_markdown_cifar(fid_dict, precision=3):\n",
    "    markdown = r'|<span style=\"font-weight:normal\">Loss Type</span>|$lr$<span style=\"font-weight:normal\">= .0002</span><br>$\\beta$ <span style=\"font-weight:normal\">= (0.5,0.999)</span><br>$n_D$ <span style=\"font-weight:normal\">= 1</span>|$lr$<span style=\"font-weight:normal\">= .0001</span><br>$\\beta$ <span style=\"font-weight:normal\">= (0.5,0.9)</span><br>$n_D$ <span style=\"font-weight:normal\">= 5</span>|' + \"\\n\"\n",
    "    markdown += r\"|:-:|:-:|:-:|\" + \"\\n\"\n",
    "    mins_0, mins_1 = [], []\n",
    "    for key in fid_dict.keys():\n",
    "        mins_0.append(fid_dict[key][0])\n",
    "        if(key!=\"RaSGAN-GP\"):\n",
    "            mins_1.append(fid_dict[key][1])\n",
    "    mins_0, mins_1 = min(mins_0), min(mins_1)\n",
    "    for key in fid_dict.keys():\n",
    "        markdown += f\"|{key}\" + \\\n",
    "                    (f\"|{fid_dict[key][0]:.{precision}f}|\" if(fid_dict[key][0]!=mins_0) else f\"|**{fid_dict[key][0]:.{precision}f}**|\") + \\\n",
    "                    ((f\"{fid_dict[key][1]:.{precision}f}\" if(fid_dict[key][1]!=mins_1) else f\"**{fid_dict[key][1]:.{precision}f}**\") if key!=\"RaSGAN-GP\" else \"\") + \"|\\n\"\n",
    "    return markdown"
   ]
  },
  {
   "cell_type": "code",
   "execution_count": 19,
   "metadata": {},
   "outputs": [],
   "source": [
    "def create_markdown_cat(fid_dict, precision=3):\n",
    "    markdown = r'|<span style=\"font-weight:normal\">Loss Type</span>|<span style=\"font-weight:normal\">Minimum FID</span>|<span style=\"font-weight:normal\">Maximum FID</span>|<span style=\"font-weight:normal\">Mean of FIDs</span>|<span style=\"font-weight:normal\">SD of FIDs</span>|' + \"\\n\"\n",
    "    markdown += r\"|:-:|:-:|:-:|:-:|:-:|\" + \"\\n\"\n",
    "    mins, maxs, devs, means = [], [], [], []\n",
    "    for key in fid_dict.keys():\n",
    "        mins.append(min(fid_dict[key]))\n",
    "        maxs.append(max(fid_dict[key]))\n",
    "        devs.append(np.std(fid_dict[key]))\n",
    "        means.append(fid_dict[key].mean())\n",
    "    mins, maxs, devs, means = min(mins), min(maxs), min(devs), min(means)\n",
    "    for key in fid_dict.keys():\n",
    "        markdown += f\"|{key}\" +  \\\n",
    "                    (f\"|{min(fid_dict[key]):.{precision}f}\" if(min(fid_dict[key])!=mins) else f\"|**{min(fid_dict[key]):.{precision}f}**\") + \\\n",
    "                    (f\"|{max(fid_dict[key]):.{precision}f}\" if(max(fid_dict[key])!=maxs) else f\"|**{max(fid_dict[key]):.{precision}f}**\") + \\\n",
    "                    (f\"|{fid_dict[key].mean():.{precision}f}\"  if(fid_dict[key].mean()!=means) else f\"|**{fid_dict[key].mean():.{precision}f}**\") + \\\n",
    "                    (f\"|{np.std(fid_dict[key]):.{precision}f}|\\n\" if(np.std(fid_dict[key])!=devs) else f\"|**{np.std(fid_dict[key]):.{precision}f}**|\\n\")\n",
    "    return markdown"
   ]
  },
  {
   "cell_type": "code",
   "execution_count": 20,
   "metadata": {},
   "outputs": [],
   "source": [
    "def create_markdown_unstable(fid_dict, precision=3):\n",
    "    markdown = r'|<span style=\"font-weight:normal\">Loss Type</span>|$lr$<span style=\"font-weight:normal\">= .001</span>|$\\beta$<span style=\"font-weight:normal\">=(0.9,0.9)</span>|<span style=\"font-weight:normal\">No BN</span>|<span style=\"font-weight:normal\">Tanh Activations</span>|' + \"\\n\"\n",
    "    markdown += r\"|:-:|:-:|:-:|:-:|:-:|\" + \"\\n\"\n",
    "    mins_0, mins_1, mins_2, mins_3 = [], [], [], []\n",
    "    for key in fid_dict.keys():\n",
    "        mins_0.append(fid_dict[key]['lr'])\n",
    "        mins_1.append(fid_dict[key]['beta'])\n",
    "        mins_2.append(fid_dict[key]['bn'])\n",
    "        mins_3.append(fid_dict[key]['tanh'])\n",
    "    mins_0, mins_1, mins_2, mins_3 = min(mins_0), min(mins_1), min(mins_2), min(mins_3)\n",
    "    for key in fid_dict.keys():\n",
    "        markdown += f\"|{key}\" +  \\\n",
    "                    (f\"|{fid_dict[key]['lr']:.{precision}f}\" if(fid_dict[key]['lr']!=mins_0) else f\"|**{fid_dict[key]['lr']:.{precision}f}**\") + \\\n",
    "                    (f\"|{fid_dict[key]['beta']:.{precision}f}\" if(fid_dict[key]['beta']!=mins_1) else f\"|**{fid_dict[key]['beta']:.{precision}f}**\") + \\\n",
    "                    (f\"|{fid_dict[key]['bn']:.{precision}f}\"  if(fid_dict[key]['bn']!=mins_2) else f\"|**{fid_dict[key]['bn']:.{precision}f}**\") + \\\n",
    "                    (f\"|{fid_dict[key]['tanh']:.{precision}f}|\\n\" if(fid_dict[key]['tanh']!=mins_3) else f\"|**{fid_dict[key]['tanh']:.{precision}f}**|\\n\")\n",
    "    return markdown"
   ]
  },
  {
   "cell_type": "code",
   "execution_count": 28,
   "metadata": {},
   "outputs": [
    {
     "data": {
      "text/plain": [
       "{'SGAN': [25.499088812235073, 35.238779889196394],\n",
       " 'RaHingeGAN': [26.847904609547527, 35.555127932557866],\n",
       " 'LSGAN': [28.835121608602094, 47.53340642907693],\n",
       " 'RSGAN-GP': [28.69944679107249, 24.427194852834248],\n",
       " 'RaSGAN-GP': [22.79755068827086, None],\n",
       " 'RaLSGAN': [29.42445270874191, 46.99372361540418],\n",
       " 'RSGAN': [27.201779088409012, 41.90231051807439],\n",
       " 'RaSGAN': [26.539710840601913, 35.92733648645202],\n",
       " 'HingeGAN': [23.784155492655202, 32.677003843172656],\n",
       " 'WGAN-GP': [100.59482981982012, 36.33449880987024]}"
      ]
     },
     "execution_count": 28,
     "metadata": {},
     "output_type": "execute_result"
    }
   ],
   "source": [
    "from IPython.display import Markdown as md\n",
    "\n",
    "cifar_dict"
   ]
  },
  {
   "cell_type": "code",
   "execution_count": null,
   "metadata": {},
   "outputs": [],
   "source": []
  },
  {
   "cell_type": "code",
   "execution_count": 32,
   "metadata": {},
   "outputs": [
    {
     "data": {
      "text/markdown": [
       "|<span style=\"font-weight:normal\">Loss Type</span>|$lr$<span style=\"font-weight:normal\">= .0002</span><br>$\\beta$ <span style=\"font-weight:normal\">= (0.5,0.999)</span><br>$n_D$ <span style=\"font-weight:normal\">= 1</span>|$lr$<span style=\"font-weight:normal\">= .0001</span><br>$\\beta$ <span style=\"font-weight:normal\">= (0.5,0.9)</span><br>$n_D$ <span style=\"font-weight:normal\">= 5</span>|\n",
       "|:-:|:-:|:-:|\n",
       "|SGAN|25.499|35.239|\n",
       "|RaHingeGAN|26.848|35.555|\n",
       "|LSGAN|28.835|47.533|\n",
       "|RSGAN-GP|28.699|**24.427**|\n",
       "|RaSGAN-GP|**22.798**||\n",
       "|RaLSGAN|29.424|46.994|\n",
       "|RSGAN|27.202|41.902|\n",
       "|RaSGAN|26.540|35.927|\n",
       "|HingeGAN|23.784|32.677|\n",
       "|WGAN-GP|100.595|36.334|\n"
      ],
      "text/plain": [
       "<IPython.core.display.Markdown object>"
      ]
     },
     "execution_count": 32,
     "metadata": {},
     "output_type": "execute_result"
    }
   ],
   "source": [
    "md(create_markdown_cifar(cifar_dict))"
   ]
  },
  {
   "cell_type": "code",
   "execution_count": 24,
   "metadata": {},
   "outputs": [
    {
     "data": {
      "text/markdown": [
       "|<span style=\"font-weight:normal\">Loss Type</span>|<span style=\"font-weight:normal\">Minimum FID</span>|<span style=\"font-weight:normal\">Maximum FID</span>|<span style=\"font-weight:normal\">Mean of FIDs</span>|<span style=\"font-weight:normal\">SD of FIDs</span>|\n",
       "|:-:|:-:|:-:|:-:|:-:|\n",
       "|SGAN|12.689|91.532|55.833|23.772|\n",
       "|RSGAN|21.608|39.081|28.071|4.549|\n",
       "|RaSGAN|18.163|25.333|21.725|2.406|\n",
       "|HingeGAN|13.616|21.930|17.322|2.270|\n",
       "|RaHingeGAN|15.946|41.539|26.313|6.744|\n",
       "|LSGAN|**11.579**|74.765|27.518|19.341|\n",
       "|RaLSGAN|12.286|**20.703**|**14.554**|2.445|\n",
       "|RSGAN-GP|20.498|25.851|24.292|**1.495**|\n",
       "|RaSGAN-GP|26.277|37.187|30.631|3.346|\n"
      ],
      "text/plain": [
       "<IPython.core.display.Markdown object>"
      ]
     },
     "execution_count": 24,
     "metadata": {},
     "output_type": "execute_result"
    }
   ],
   "source": [
    "md(create_markdown_cat(cat_dict))"
   ]
  },
  {
   "cell_type": "code",
   "execution_count": 25,
   "metadata": {},
   "outputs": [
    {
     "ename": "KeyError",
     "evalue": "'beta'",
     "output_type": "error",
     "traceback": [
      "\u001b[1;31m---------------------------------------------------------------------------\u001b[0m",
      "\u001b[1;31mKeyError\u001b[0m                                  Traceback (most recent call last)",
      "\u001b[1;32m<ipython-input-25-03d6def67083>\u001b[0m in \u001b[0;36m<module>\u001b[1;34m\u001b[0m\n\u001b[1;32m----> 1\u001b[1;33m \u001b[0mmd\u001b[0m\u001b[1;33m(\u001b[0m\u001b[0mcreate_markdown_unstable\u001b[0m\u001b[1;33m(\u001b[0m\u001b[0munstable_dict\u001b[0m\u001b[1;33m)\u001b[0m\u001b[1;33m)\u001b[0m\u001b[1;33m\u001b[0m\u001b[1;33m\u001b[0m\u001b[0m\n\u001b[0m",
      "\u001b[1;32m<ipython-input-20-f4c46ab985a3>\u001b[0m in \u001b[0;36mcreate_markdown_unstable\u001b[1;34m(fid_dict, precision)\u001b[0m\n\u001b[0;32m      5\u001b[0m     \u001b[1;32mfor\u001b[0m \u001b[0mkey\u001b[0m \u001b[1;32min\u001b[0m \u001b[0mfid_dict\u001b[0m\u001b[1;33m.\u001b[0m\u001b[0mkeys\u001b[0m\u001b[1;33m(\u001b[0m\u001b[1;33m)\u001b[0m\u001b[1;33m:\u001b[0m\u001b[1;33m\u001b[0m\u001b[1;33m\u001b[0m\u001b[0m\n\u001b[0;32m      6\u001b[0m         \u001b[0mmins_0\u001b[0m\u001b[1;33m.\u001b[0m\u001b[0mappend\u001b[0m\u001b[1;33m(\u001b[0m\u001b[0mfid_dict\u001b[0m\u001b[1;33m[\u001b[0m\u001b[0mkey\u001b[0m\u001b[1;33m]\u001b[0m\u001b[1;33m[\u001b[0m\u001b[1;34m'lr'\u001b[0m\u001b[1;33m]\u001b[0m\u001b[1;33m)\u001b[0m\u001b[1;33m\u001b[0m\u001b[1;33m\u001b[0m\u001b[0m\n\u001b[1;32m----> 7\u001b[1;33m         \u001b[0mmins_1\u001b[0m\u001b[1;33m.\u001b[0m\u001b[0mappend\u001b[0m\u001b[1;33m(\u001b[0m\u001b[0mfid_dict\u001b[0m\u001b[1;33m[\u001b[0m\u001b[0mkey\u001b[0m\u001b[1;33m]\u001b[0m\u001b[1;33m[\u001b[0m\u001b[1;34m'beta'\u001b[0m\u001b[1;33m]\u001b[0m\u001b[1;33m)\u001b[0m\u001b[1;33m\u001b[0m\u001b[1;33m\u001b[0m\u001b[0m\n\u001b[0m\u001b[0;32m      8\u001b[0m         \u001b[0mmins_2\u001b[0m\u001b[1;33m.\u001b[0m\u001b[0mappend\u001b[0m\u001b[1;33m(\u001b[0m\u001b[0mfid_dict\u001b[0m\u001b[1;33m[\u001b[0m\u001b[0mkey\u001b[0m\u001b[1;33m]\u001b[0m\u001b[1;33m[\u001b[0m\u001b[1;34m'bn'\u001b[0m\u001b[1;33m]\u001b[0m\u001b[1;33m)\u001b[0m\u001b[1;33m\u001b[0m\u001b[1;33m\u001b[0m\u001b[0m\n\u001b[0;32m      9\u001b[0m         \u001b[0mmins_3\u001b[0m\u001b[1;33m.\u001b[0m\u001b[0mappend\u001b[0m\u001b[1;33m(\u001b[0m\u001b[0mfid_dict\u001b[0m\u001b[1;33m[\u001b[0m\u001b[0mkey\u001b[0m\u001b[1;33m]\u001b[0m\u001b[1;33m[\u001b[0m\u001b[1;34m'tanh'\u001b[0m\u001b[1;33m]\u001b[0m\u001b[1;33m)\u001b[0m\u001b[1;33m\u001b[0m\u001b[1;33m\u001b[0m\u001b[0m\n",
      "\u001b[1;31mKeyError\u001b[0m: 'beta'"
     ]
    }
   ],
   "source": [
    "md(create_markdown_unstable(unstable_dict))"
   ]
  },
  {
   "cell_type": "code",
   "execution_count": 26,
   "metadata": {},
   "outputs": [
    {
     "data": {
      "text/plain": [
       "{'RSGAN': {'lr': 68.81464977741052},\n",
       " 'RaSGAN': {'lr': 74.44953310571293},\n",
       " 'HingeGAN': {'lr': 180.92575847470363,\n",
       "  'beta': 464.5851254847585,\n",
       "  'bn': 96.50508079866324,\n",
       "  'tanh': 167.27138597261228},\n",
       " 'RaHingeGAN': {'lr': 57.61731745181032,\n",
       "  'bn': 50.921817161127365,\n",
       "  'tanh': 152.26481455854056,\n",
       "  'beta': 60.30523959455866},\n",
       " 'RaLSGAN': {'lr': 55.45889669699716,\n",
       "  'bn': 48.74907485025477,\n",
       "  'beta': 44.51728887551877,\n",
       "  'tanh': 105.48282790582203},\n",
       " 'LSGAN': {'bn': 47.69992770248729,\n",
       "  'tanh': 529.9000096096305,\n",
       "  'lr': 343.7235321962297,\n",
       "  'beta': 361.42210080570374},\n",
       " 'SGAN': {'bn': 38.97395765511919,\n",
       "  'beta': 41.553350839056634,\n",
       "  'lr': 168.62859880363885,\n",
       "  'tanh': 105.50866126600431},\n",
       " 'WGAN-GP': {'beta': 130.54857369584926,\n",
       "  'tanh': 55.412235804352235,\n",
       "  'lr': 43.27749865818271}}"
      ]
     },
     "execution_count": 26,
     "metadata": {},
     "output_type": "execute_result"
    }
   ],
   "source": [
    "unstable_dict"
   ]
  },
  {
   "cell_type": "code",
   "execution_count": null,
   "metadata": {},
   "outputs": [],
   "source": []
  }
 ],
 "metadata": {
  "kernelspec": {
   "display_name": "Python 3",
   "language": "python",
   "name": "python3"
  }
 },
 "nbformat": 4,
 "nbformat_minor": 4
}
